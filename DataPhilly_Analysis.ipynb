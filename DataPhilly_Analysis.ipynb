{
 "cells": [
  {
   "cell_type": "markdown",
   "metadata": {},
   "source": [
    "# Instructions\n",
    "* The latest version of this notebook can always be found and viewed online [here](https://github.com/mdbecker/daa_philly_2015/blob/master/DataPhilly_Analysis.ipynb).\n",
    "* Instructions for setting up Jupyter Notebook and the required libraries can be found online [here](https://github.com/mdbecker/daa_philly_2015/blob/master/README.md).\n",
    "* The repo for this project can be found and forked [here](https://github.com/mdbecker/daa_philly_2015/).\n",
    "\n",
    "# Jupyter Notebook\n",
    "The Jupyter Notebook is a web application that allows you to create and share documents that contain live code, equations, visualizations and explanatory text. Uses include: data cleaning and transformation, numerical simulation, statistical modeling, machine learning and much more.\n",
    "\n",
    "<img src=\"https://jupyter.org/assets/jupyterpreview.png\" width=\"70%\" />\n",
    "\n",
    "Through Jupyter's kernel and messaging architecture, the Notebook allows code to be run in a range of different programming languages.  For each notebook document that a user opens, the web application starts a kernel that runs the code for that notebook. Each kernel is capable of running code in a single programming language and there are kernels available in the following languages\n",
    "\n",
    "* Python(https://github.com/ipython/ipython)\n",
    "* Julia (https://github.com/JuliaLang/IJulia.jl)\n",
    "* R (https://github.com/takluyver/IRkernel)\n",
    "* Ruby (https://github.com/minrk/iruby)\n",
    "* Haskell (https://github.com/gibiansky/IHaskell)\n",
    "* Scala (https://github.com/Bridgewater/scala-notebook)\n",
    "* node.js (https://gist.github.com/Carreau/4279371)\n",
    "* Go (https://github.com/takluyver/igo)\n",
    "\n",
    "The default kernel runs Python code. The notebook provides a simple way for users to pick which of these kernels is used for a given notebook.\n",
    "\n",
    "**Jupyter examples and tutorials can be found in the Jupyter github repo [here](https://github.com/jupyter/notebook/blob/master/docs/source/examples/Notebook/Examples%20and%20Tutorials%20Index.ipynb).**"
   ]
  },
  {
   "cell_type": "markdown",
   "metadata": {},
   "source": [
    "## Initializing our environment"
   ]
  },
  {
   "cell_type": "markdown",
   "metadata": {},
   "source": [
    "First let's start off by initilizing our environment\n",
    "* ``%matplotlib inline`` initilizes [matplotlib](http://matplotlib.org/) so that we can display graphs and charts in our notebook.\n",
    "* ``import seaborn as sns`` imports [seaborn](https://web.stanford.edu/~mwaskom/software/seaborn/) a graphing library built on top of matplotlib.\n",
    "* ``import pandas as pd`` imports [pandas](http://pandas.pydata.org/) a tool I'll explain in the next section."
   ]
  },
  {
   "cell_type": "markdown",
   "metadata": {},
   "source": [
    "*Hint: If you've installed Jupyter Notebook and you're running this on your machine, you can use the run button <i class=\"fa-step-forward fa\"></i> in the toolbar at the top of the page to execute each cell*"
   ]
  },
  {
   "cell_type": "markdown",
   "metadata": {},
   "source": [
    "Click on the cell above and the cell below. You'll notice that the cell above is [Markdown](https://daringfireball.net/projects/markdown/). You can edit it by double clicking on it. The cell below contains Python code which can be modified and execute. If the code has any output it will be printed out below the cell with **<font color=\"darkred\">Out [n]:</font>** in front of it."
   ]
  },
  {
   "cell_type": "code",
   "execution_count": 1,
   "metadata": {
    "collapsed": false
   },
   "outputs": [],
   "source": [
    "%matplotlib inline\n",
    "import seaborn as sns\n",
    "import pandas as pd\n",
    "from matplotlib import rcParams\n",
    "\n",
    "# Modify aesthetics for visibility during presentation\n",
    "sns.set_style('darkgrid', {'axes.facecolor': '#C2C2C8'})\n",
    "sns.set_palette('colorblind')\n",
    "\n",
    "# Make everything bigger for visibility during presentation\n",
    "rcParams['figure.figsize'] = 20, 10\n",
    "rcParams['axes.titlesize'] = 'xx-large'\n",
    "rcParams['axes.labelsize'] = 'x-large'\n",
    "rcParams['xtick.labelsize'] = 'x-large'\n",
    "rcParams['ytick.labelsize'] = 'x-large'\n",
    "rcParams['legend.fontsize'] = 'xx-large'\n",
    "rcParams['lines.linewidth'] = 4.0\n",
    "rcParams['grid.linewidth'] = 2.0"
   ]
  },
  {
   "cell_type": "markdown",
   "metadata": {},
   "source": [
    "## Pandas"
   ]
  },
  {
   "cell_type": "markdown",
   "metadata": {},
   "source": [
    "<img src=\"http://pandas.pydata.org/_static/pandas_logo.png\" width=\"50%\" />\n",
    "\n",
    "Pandas is a library that provides data analysis tools for the Python programming language. You can think of it as Excel on steroids, but in Python."
   ]
  },
  {
   "cell_type": "markdown",
   "metadata": {},
   "source": [
    "To start off, I've used the [meetup API](http://www.meetup.com/meetup_api/docs/) to gather a bunch of data on members of the [DataPhilly meetup group](http://www.meetup.com/DataPhilly/). First let's start off by looking at the events we've had over the past few years. I've loaded the data into a pandas ``DataFrame`` and stored it in the file ``events.pkl``. A ``DataFrame`` is a table similar to an Excel spreadsheet. Let's load it and see what it looks like:"
   ]
  },
  {
   "cell_type": "code",
   "execution_count": 2,
   "metadata": {
    "collapsed": false
   },
   "outputs": [
    {
     "data": {
      "text/html": [
       "<div>\n",
       "<table border=\"1\" class=\"dataframe\">\n",
       "  <thead>\n",
       "    <tr style=\"text-align: right;\">\n",
       "      <th></th>\n",
       "      <th>created</th>\n",
       "      <th>name</th>\n",
       "      <th>rating</th>\n",
       "      <th>time</th>\n",
       "      <th>waitlist_count</th>\n",
       "      <th>yes_rsvp_count</th>\n",
       "      <th>id</th>\n",
       "    </tr>\n",
       "  </thead>\n",
       "  <tbody>\n",
       "    <tr>\n",
       "      <th>0</th>\n",
       "      <td>1351948193000</td>\n",
       "      <td>Meet and greet</td>\n",
       "      <td>{u'count': 3, u'average': 5}</td>\n",
       "      <td>1352934000000</td>\n",
       "      <td>0</td>\n",
       "      <td>17</td>\n",
       "      <td>89769502</td>\n",
       "    </tr>\n",
       "    <tr>\n",
       "      <th>1</th>\n",
       "      <td>1357781071000</td>\n",
       "      <td>DataPhilly January 2013 Meetup - An Introducti...</td>\n",
       "      <td>{u'count': 6, u'average': 4.17000007629}</td>\n",
       "      <td>1359588600000</td>\n",
       "      <td>0</td>\n",
       "      <td>61</td>\n",
       "      <td>98833672</td>\n",
       "    </tr>\n",
       "    <tr>\n",
       "      <th>2</th>\n",
       "      <td>1359732939000</td>\n",
       "      <td>DataPhilly February 2013 Meetup - Data Science...</td>\n",
       "      <td>{u'count': 5, u'average': 5}</td>\n",
       "      <td>1361316600000</td>\n",
       "      <td>0</td>\n",
       "      <td>47</td>\n",
       "      <td>102502622</td>\n",
       "    </tr>\n",
       "    <tr>\n",
       "      <th>3</th>\n",
       "      <td>1361647778000</td>\n",
       "      <td>DataPhilly March 2013 Meetup - Data Analysis u...</td>\n",
       "      <td>{u'count': 8, u'average': 5}</td>\n",
       "      <td>1364423400000</td>\n",
       "      <td>0</td>\n",
       "      <td>62</td>\n",
       "      <td>106043892</td>\n",
       "    </tr>\n",
       "    <tr>\n",
       "      <th>4</th>\n",
       "      <td>1362506708000</td>\n",
       "      <td>DataPhilly April 2013 Meetup - Machine Learnin...</td>\n",
       "      <td>{u'count': 7, u'average': 4.57000017166}</td>\n",
       "      <td>1366151400000</td>\n",
       "      <td>2</td>\n",
       "      <td>54</td>\n",
       "      <td>107740582</td>\n",
       "    </tr>\n",
       "    <tr>\n",
       "      <th>5</th>\n",
       "      <td>1369104714000</td>\n",
       "      <td>DataPhilly June 2013 - Hadoop: BigSheets &amp; Pig</td>\n",
       "      <td>{u'count': 4, u'average': 3}</td>\n",
       "      <td>1370471400000</td>\n",
       "      <td>5</td>\n",
       "      <td>41</td>\n",
       "      <td>120425212</td>\n",
       "    </tr>\n",
       "    <tr>\n",
       "      <th>6</th>\n",
       "      <td>1375999505000</td>\n",
       "      <td>DataPhilly August 2013 - Data Science with R</td>\n",
       "      <td>{u'count': 11, u'average': 4.55000019073}</td>\n",
       "      <td>1377037800000</td>\n",
       "      <td>0</td>\n",
       "      <td>77</td>\n",
       "      <td>133803672</td>\n",
       "    </tr>\n",
       "    <tr>\n",
       "      <th>7</th>\n",
       "      <td>1378332108000</td>\n",
       "      <td>DataPhilly September 2013 - Data Storytime</td>\n",
       "      <td>{u'count': 9, u'average': 5}</td>\n",
       "      <td>1380234600000</td>\n",
       "      <td>0</td>\n",
       "      <td>64</td>\n",
       "      <td>138415912</td>\n",
       "    </tr>\n",
       "    <tr>\n",
       "      <th>8</th>\n",
       "      <td>1381360216000</td>\n",
       "      <td>DataPhilly October 2013 - Data Science Tools a...</td>\n",
       "      <td>{u'count': 11, u'average': 4.73000001907}</td>\n",
       "      <td>1382565600000</td>\n",
       "      <td>0</td>\n",
       "      <td>50</td>\n",
       "      <td>144769822</td>\n",
       "    </tr>\n",
       "    <tr>\n",
       "      <th>9</th>\n",
       "      <td>1383762778000</td>\n",
       "      <td>DataPhilly November 2013 - Data in Practice</td>\n",
       "      <td>{u'count': 3, u'average': 4.67000007629}</td>\n",
       "      <td>1384815600000</td>\n",
       "      <td>0</td>\n",
       "      <td>67</td>\n",
       "      <td>149515412</td>\n",
       "    </tr>\n",
       "    <tr>\n",
       "      <th>10</th>\n",
       "      <td>1389631621000</td>\n",
       "      <td>DataPhilly January 2014 - Two Hours of Lightni...</td>\n",
       "      <td>{u'count': 6, u'average': 4.82999992371}</td>\n",
       "      <td>1391036400000</td>\n",
       "      <td>0</td>\n",
       "      <td>69</td>\n",
       "      <td>160323532</td>\n",
       "    </tr>\n",
       "    <tr>\n",
       "      <th>11</th>\n",
       "      <td>1393608501000</td>\n",
       "      <td>DataPhilly March 2014 - Interactive Data Visua...</td>\n",
       "      <td>{u'count': 9, u'average': 4.67000007629}</td>\n",
       "      <td>1394661600000</td>\n",
       "      <td>0</td>\n",
       "      <td>69</td>\n",
       "      <td>168747852</td>\n",
       "    </tr>\n",
       "    <tr>\n",
       "      <th>12</th>\n",
       "      <td>1396956902000</td>\n",
       "      <td>DataPhilly April 2014: Art and Data</td>\n",
       "      <td>{u'count': 4, u'average': 4.75}</td>\n",
       "      <td>1397685600000</td>\n",
       "      <td>0</td>\n",
       "      <td>39</td>\n",
       "      <td>175993712</td>\n",
       "    </tr>\n",
       "    <tr>\n",
       "      <th>13</th>\n",
       "      <td>1400001749000</td>\n",
       "      <td>DataPhilly May 2014: Data Discovery</td>\n",
       "      <td>{u'count': 7, u'average': 5}</td>\n",
       "      <td>1400709600000</td>\n",
       "      <td>0</td>\n",
       "      <td>60</td>\n",
       "      <td>182860422</td>\n",
       "    </tr>\n",
       "    <tr>\n",
       "      <th>14</th>\n",
       "      <td>1410488369000</td>\n",
       "      <td>Explore All the Data!</td>\n",
       "      <td>{u'count': 2, u'average': 5}</td>\n",
       "      <td>1412719200000</td>\n",
       "      <td>0</td>\n",
       "      <td>44</td>\n",
       "      <td>206754182</td>\n",
       "    </tr>\n",
       "    <tr>\n",
       "      <th>15</th>\n",
       "      <td>1414103507000</td>\n",
       "      <td>Explore All the Data!</td>\n",
       "      <td>{u'count': 3, u'average': 4}</td>\n",
       "      <td>1415314800000</td>\n",
       "      <td>0</td>\n",
       "      <td>41</td>\n",
       "      <td>215265722</td>\n",
       "    </tr>\n",
       "    <tr>\n",
       "      <th>16</th>\n",
       "      <td>1417659431000</td>\n",
       "      <td>DataPhilly - December 2014</td>\n",
       "      <td>{u'count': 5, u'average': 5}</td>\n",
       "      <td>1418770800000</td>\n",
       "      <td>2</td>\n",
       "      <td>68</td>\n",
       "      <td>219055217</td>\n",
       "    </tr>\n",
       "    <tr>\n",
       "      <th>17</th>\n",
       "      <td>1421280214000</td>\n",
       "      <td>DataPhilly &amp; GeoPhilly: Open Data Day Meetup</td>\n",
       "      <td>{u'count': 4, u'average': 4.5}</td>\n",
       "      <td>1424386800000</td>\n",
       "      <td>83</td>\n",
       "      <td>57</td>\n",
       "      <td>219840555</td>\n",
       "    </tr>\n",
       "    <tr>\n",
       "      <th>18</th>\n",
       "      <td>1423955223000</td>\n",
       "      <td>DataPhilly: March Meetup</td>\n",
       "      <td>{u'count': 3, u'average': 4.67000007629}</td>\n",
       "      <td>1426802400000</td>\n",
       "      <td>0</td>\n",
       "      <td>114</td>\n",
       "      <td>220526799</td>\n",
       "    </tr>\n",
       "    <tr>\n",
       "      <th>19</th>\n",
       "      <td>1426720048000</td>\n",
       "      <td>DataPhilly: April; Philly Tech Week Edition</td>\n",
       "      <td>{u'count': 9, u'average': 5}</td>\n",
       "      <td>1429221600000</td>\n",
       "      <td>19</td>\n",
       "      <td>115</td>\n",
       "      <td>221245827</td>\n",
       "    </tr>\n",
       "    <tr>\n",
       "      <th>20</th>\n",
       "      <td>1442763491000</td>\n",
       "      <td>DataPhilly October</td>\n",
       "      <td>{u'count': 6, u'average': 4.82999992371}</td>\n",
       "      <td>1445551200000</td>\n",
       "      <td>7</td>\n",
       "      <td>139</td>\n",
       "      <td>225488147</td>\n",
       "    </tr>\n",
       "  </tbody>\n",
       "</table>\n",
       "</div>"
      ],
      "text/plain": [
       "          created                                               name  \\\n",
       "0   1351948193000                                     Meet and greet   \n",
       "1   1357781071000  DataPhilly January 2013 Meetup - An Introducti...   \n",
       "2   1359732939000  DataPhilly February 2013 Meetup - Data Science...   \n",
       "3   1361647778000  DataPhilly March 2013 Meetup - Data Analysis u...   \n",
       "4   1362506708000  DataPhilly April 2013 Meetup - Machine Learnin...   \n",
       "5   1369104714000     DataPhilly June 2013 - Hadoop: BigSheets & Pig   \n",
       "6   1375999505000       DataPhilly August 2013 - Data Science with R   \n",
       "7   1378332108000         DataPhilly September 2013 - Data Storytime   \n",
       "8   1381360216000  DataPhilly October 2013 - Data Science Tools a...   \n",
       "9   1383762778000        DataPhilly November 2013 - Data in Practice   \n",
       "10  1389631621000  DataPhilly January 2014 - Two Hours of Lightni...   \n",
       "11  1393608501000  DataPhilly March 2014 - Interactive Data Visua...   \n",
       "12  1396956902000                DataPhilly April 2014: Art and Data   \n",
       "13  1400001749000                DataPhilly May 2014: Data Discovery   \n",
       "14  1410488369000                              Explore All the Data!   \n",
       "15  1414103507000                              Explore All the Data!   \n",
       "16  1417659431000                         DataPhilly - December 2014   \n",
       "17  1421280214000       DataPhilly & GeoPhilly: Open Data Day Meetup   \n",
       "18  1423955223000                           DataPhilly: March Meetup   \n",
       "19  1426720048000        DataPhilly: April; Philly Tech Week Edition   \n",
       "20  1442763491000                                 DataPhilly October   \n",
       "\n",
       "                                       rating           time  waitlist_count  \\\n",
       "0                {u'count': 3, u'average': 5}  1352934000000               0   \n",
       "1    {u'count': 6, u'average': 4.17000007629}  1359588600000               0   \n",
       "2                {u'count': 5, u'average': 5}  1361316600000               0   \n",
       "3                {u'count': 8, u'average': 5}  1364423400000               0   \n",
       "4    {u'count': 7, u'average': 4.57000017166}  1366151400000               2   \n",
       "5                {u'count': 4, u'average': 3}  1370471400000               5   \n",
       "6   {u'count': 11, u'average': 4.55000019073}  1377037800000               0   \n",
       "7                {u'count': 9, u'average': 5}  1380234600000               0   \n",
       "8   {u'count': 11, u'average': 4.73000001907}  1382565600000               0   \n",
       "9    {u'count': 3, u'average': 4.67000007629}  1384815600000               0   \n",
       "10   {u'count': 6, u'average': 4.82999992371}  1391036400000               0   \n",
       "11   {u'count': 9, u'average': 4.67000007629}  1394661600000               0   \n",
       "12            {u'count': 4, u'average': 4.75}  1397685600000               0   \n",
       "13               {u'count': 7, u'average': 5}  1400709600000               0   \n",
       "14               {u'count': 2, u'average': 5}  1412719200000               0   \n",
       "15               {u'count': 3, u'average': 4}  1415314800000               0   \n",
       "16               {u'count': 5, u'average': 5}  1418770800000               2   \n",
       "17             {u'count': 4, u'average': 4.5}  1424386800000              83   \n",
       "18   {u'count': 3, u'average': 4.67000007629}  1426802400000               0   \n",
       "19               {u'count': 9, u'average': 5}  1429221600000              19   \n",
       "20   {u'count': 6, u'average': 4.82999992371}  1445551200000               7   \n",
       "\n",
       "    yes_rsvp_count         id  \n",
       "0               17   89769502  \n",
       "1               61   98833672  \n",
       "2               47  102502622  \n",
       "3               62  106043892  \n",
       "4               54  107740582  \n",
       "5               41  120425212  \n",
       "6               77  133803672  \n",
       "7               64  138415912  \n",
       "8               50  144769822  \n",
       "9               67  149515412  \n",
       "10              69  160323532  \n",
       "11              69  168747852  \n",
       "12              39  175993712  \n",
       "13              60  182860422  \n",
       "14              44  206754182  \n",
       "15              41  215265722  \n",
       "16              68  219055217  \n",
       "17              57  219840555  \n",
       "18             114  220526799  \n",
       "19             115  221245827  \n",
       "20             139  225488147  "
      ]
     },
     "execution_count": 2,
     "metadata": {},
     "output_type": "execute_result"
    }
   ],
   "source": [
    "events_df = pd.read_pickle('events.pkl')\n",
    "events_df = events_df.sort_values(by='time')\n",
    "events_df"
   ]
  },
  {
   "cell_type": "markdown",
   "metadata": {},
   "source": [
    "You can access values in a ``DataFrame`` column like this:"
   ]
  },
  {
   "cell_type": "code",
   "execution_count": 3,
   "metadata": {
    "collapsed": false
   },
   "outputs": [
    {
     "data": {
      "text/plain": [
       "0      17\n",
       "1      61\n",
       "2      47\n",
       "3      62\n",
       "4      54\n",
       "5      41\n",
       "6      77\n",
       "7      64\n",
       "8      50\n",
       "9      67\n",
       "10     69\n",
       "11     69\n",
       "12     39\n",
       "13     60\n",
       "14     44\n",
       "15     41\n",
       "16     68\n",
       "17     57\n",
       "18    114\n",
       "19    115\n",
       "20    139\n",
       "Name: yes_rsvp_count, dtype: int64"
      ]
     },
     "execution_count": 3,
     "metadata": {},
     "output_type": "execute_result"
    }
   ],
   "source": [
    "events_df['yes_rsvp_count']"
   ]
  },
  {
   "cell_type": "markdown",
   "metadata": {},
   "source": [
    "You can access a row of a ``DataFrame`` using ``iloc``:"
   ]
  },
  {
   "cell_type": "code",
   "execution_count": 4,
   "metadata": {
    "collapsed": false
   },
   "outputs": [
    {
     "data": {
      "text/plain": [
       "created                                               1362506708000\n",
       "name              DataPhilly April 2013 Meetup - Machine Learnin...\n",
       "rating                     {u'count': 7, u'average': 4.57000017166}\n",
       "time                                                  1366151400000\n",
       "waitlist_count                                                    2\n",
       "yes_rsvp_count                                                   54\n",
       "id                                                        107740582\n",
       "Name: 4, dtype: object"
      ]
     },
     "execution_count": 4,
     "metadata": {},
     "output_type": "execute_result"
    }
   ],
   "source": [
    "events_df.iloc[4]"
   ]
  },
  {
   "cell_type": "markdown",
   "metadata": {},
   "source": [
    "We can view the first few rows using the ``head`` method:"
   ]
  },
  {
   "cell_type": "code",
   "execution_count": 5,
   "metadata": {
    "collapsed": false
   },
   "outputs": [
    {
     "data": {
      "text/html": [
       "<div>\n",
       "<table border=\"1\" class=\"dataframe\">\n",
       "  <thead>\n",
       "    <tr style=\"text-align: right;\">\n",
       "      <th></th>\n",
       "      <th>created</th>\n",
       "      <th>name</th>\n",
       "      <th>rating</th>\n",
       "      <th>time</th>\n",
       "      <th>waitlist_count</th>\n",
       "      <th>yes_rsvp_count</th>\n",
       "      <th>id</th>\n",
       "    </tr>\n",
       "  </thead>\n",
       "  <tbody>\n",
       "    <tr>\n",
       "      <th>0</th>\n",
       "      <td>1351948193000</td>\n",
       "      <td>Meet and greet</td>\n",
       "      <td>{u'count': 3, u'average': 5}</td>\n",
       "      <td>1352934000000</td>\n",
       "      <td>0</td>\n",
       "      <td>17</td>\n",
       "      <td>89769502</td>\n",
       "    </tr>\n",
       "    <tr>\n",
       "      <th>1</th>\n",
       "      <td>1357781071000</td>\n",
       "      <td>DataPhilly January 2013 Meetup - An Introducti...</td>\n",
       "      <td>{u'count': 6, u'average': 4.17000007629}</td>\n",
       "      <td>1359588600000</td>\n",
       "      <td>0</td>\n",
       "      <td>61</td>\n",
       "      <td>98833672</td>\n",
       "    </tr>\n",
       "    <tr>\n",
       "      <th>2</th>\n",
       "      <td>1359732939000</td>\n",
       "      <td>DataPhilly February 2013 Meetup - Data Science...</td>\n",
       "      <td>{u'count': 5, u'average': 5}</td>\n",
       "      <td>1361316600000</td>\n",
       "      <td>0</td>\n",
       "      <td>47</td>\n",
       "      <td>102502622</td>\n",
       "    </tr>\n",
       "    <tr>\n",
       "      <th>3</th>\n",
       "      <td>1361647778000</td>\n",
       "      <td>DataPhilly March 2013 Meetup - Data Analysis u...</td>\n",
       "      <td>{u'count': 8, u'average': 5}</td>\n",
       "      <td>1364423400000</td>\n",
       "      <td>0</td>\n",
       "      <td>62</td>\n",
       "      <td>106043892</td>\n",
       "    </tr>\n",
       "    <tr>\n",
       "      <th>4</th>\n",
       "      <td>1362506708000</td>\n",
       "      <td>DataPhilly April 2013 Meetup - Machine Learnin...</td>\n",
       "      <td>{u'count': 7, u'average': 4.57000017166}</td>\n",
       "      <td>1366151400000</td>\n",
       "      <td>2</td>\n",
       "      <td>54</td>\n",
       "      <td>107740582</td>\n",
       "    </tr>\n",
       "  </tbody>\n",
       "</table>\n",
       "</div>"
      ],
      "text/plain": [
       "         created                                               name  \\\n",
       "0  1351948193000                                     Meet and greet   \n",
       "1  1357781071000  DataPhilly January 2013 Meetup - An Introducti...   \n",
       "2  1359732939000  DataPhilly February 2013 Meetup - Data Science...   \n",
       "3  1361647778000  DataPhilly March 2013 Meetup - Data Analysis u...   \n",
       "4  1362506708000  DataPhilly April 2013 Meetup - Machine Learnin...   \n",
       "\n",
       "                                     rating           time  waitlist_count  \\\n",
       "0              {u'count': 3, u'average': 5}  1352934000000               0   \n",
       "1  {u'count': 6, u'average': 4.17000007629}  1359588600000               0   \n",
       "2              {u'count': 5, u'average': 5}  1361316600000               0   \n",
       "3              {u'count': 8, u'average': 5}  1364423400000               0   \n",
       "4  {u'count': 7, u'average': 4.57000017166}  1366151400000               2   \n",
       "\n",
       "   yes_rsvp_count         id  \n",
       "0              17   89769502  \n",
       "1              61   98833672  \n",
       "2              47  102502622  \n",
       "3              62  106043892  \n",
       "4              54  107740582  "
      ]
     },
     "execution_count": 5,
     "metadata": {},
     "output_type": "execute_result"
    }
   ],
   "source": [
    "events_df.head()"
   ]
  },
  {
   "cell_type": "markdown",
   "metadata": {},
   "source": [
    "And similarly the last few using ``tail``:"
   ]
  },
  {
   "cell_type": "code",
   "execution_count": 6,
   "metadata": {
    "collapsed": false
   },
   "outputs": [
    {
     "data": {
      "text/html": [
       "<div>\n",
       "<table border=\"1\" class=\"dataframe\">\n",
       "  <thead>\n",
       "    <tr style=\"text-align: right;\">\n",
       "      <th></th>\n",
       "      <th>created</th>\n",
       "      <th>name</th>\n",
       "      <th>rating</th>\n",
       "      <th>time</th>\n",
       "      <th>waitlist_count</th>\n",
       "      <th>yes_rsvp_count</th>\n",
       "      <th>id</th>\n",
       "    </tr>\n",
       "  </thead>\n",
       "  <tbody>\n",
       "    <tr>\n",
       "      <th>18</th>\n",
       "      <td>1423955223000</td>\n",
       "      <td>DataPhilly: March Meetup</td>\n",
       "      <td>{u'count': 3, u'average': 4.67000007629}</td>\n",
       "      <td>1426802400000</td>\n",
       "      <td>0</td>\n",
       "      <td>114</td>\n",
       "      <td>220526799</td>\n",
       "    </tr>\n",
       "    <tr>\n",
       "      <th>19</th>\n",
       "      <td>1426720048000</td>\n",
       "      <td>DataPhilly: April; Philly Tech Week Edition</td>\n",
       "      <td>{u'count': 9, u'average': 5}</td>\n",
       "      <td>1429221600000</td>\n",
       "      <td>19</td>\n",
       "      <td>115</td>\n",
       "      <td>221245827</td>\n",
       "    </tr>\n",
       "    <tr>\n",
       "      <th>20</th>\n",
       "      <td>1442763491000</td>\n",
       "      <td>DataPhilly October</td>\n",
       "      <td>{u'count': 6, u'average': 4.82999992371}</td>\n",
       "      <td>1445551200000</td>\n",
       "      <td>7</td>\n",
       "      <td>139</td>\n",
       "      <td>225488147</td>\n",
       "    </tr>\n",
       "  </tbody>\n",
       "</table>\n",
       "</div>"
      ],
      "text/plain": [
       "          created                                         name  \\\n",
       "18  1423955223000                     DataPhilly: March Meetup   \n",
       "19  1426720048000  DataPhilly: April; Philly Tech Week Edition   \n",
       "20  1442763491000                           DataPhilly October   \n",
       "\n",
       "                                      rating           time  waitlist_count  \\\n",
       "18  {u'count': 3, u'average': 4.67000007629}  1426802400000               0   \n",
       "19              {u'count': 9, u'average': 5}  1429221600000              19   \n",
       "20  {u'count': 6, u'average': 4.82999992371}  1445551200000               7   \n",
       "\n",
       "    yes_rsvp_count         id  \n",
       "18             114  220526799  \n",
       "19             115  221245827  \n",
       "20             139  225488147  "
      ]
     },
     "execution_count": 6,
     "metadata": {},
     "output_type": "execute_result"
    }
   ],
   "source": [
    "events_df.tail(3)"
   ]
  },
  {
   "cell_type": "markdown",
   "metadata": {},
   "source": [
    "We can see that the ``yes_rsvp_count`` contains the number of people who RSVPed yes for each event. First let's look at some basic statistics:"
   ]
  },
  {
   "cell_type": "code",
   "execution_count": 7,
   "metadata": {
    "collapsed": false
   },
   "outputs": [
    {
     "data": {
      "text/plain": [
       "(1355, 64.523809523809518, 17, 139)"
      ]
     },
     "execution_count": 7,
     "metadata": {},
     "output_type": "execute_result"
    }
   ],
   "source": [
    "yes_rsvp_count = events_df['yes_rsvp_count']\n",
    "yes_rsvp_count.sum(), yes_rsvp_count.mean(), yes_rsvp_count.min(), yes_rsvp_count.max()"
   ]
  },
  {
   "cell_type": "markdown",
   "metadata": {},
   "source": [
    "When we access a single column of the ``DataFrame`` like this we get a ``Series`` object which is just a 1-dimensional version of a ``DataFrame``."
   ]
  },
  {
   "cell_type": "code",
   "execution_count": 8,
   "metadata": {
    "collapsed": false
   },
   "outputs": [
    {
     "data": {
      "text/plain": [
       "pandas.core.series.Series"
      ]
     },
     "execution_count": 8,
     "metadata": {},
     "output_type": "execute_result"
    }
   ],
   "source": [
    "type(yes_rsvp_count)"
   ]
  },
  {
   "cell_type": "markdown",
   "metadata": {},
   "source": [
    "We can use the built-in ``describe`` method to print out a lot of useful stats in a nice tabular format:"
   ]
  },
  {
   "cell_type": "code",
   "execution_count": 9,
   "metadata": {
    "collapsed": false
   },
   "outputs": [
    {
     "data": {
      "text/plain": [
       "count     21.000000\n",
       "mean      64.523810\n",
       "std       28.212797\n",
       "min       17.000000\n",
       "25%       47.000000\n",
       "50%       61.000000\n",
       "75%       69.000000\n",
       "max      139.000000\n",
       "Name: yes_rsvp_count, dtype: float64"
      ]
     },
     "execution_count": 9,
     "metadata": {},
     "output_type": "execute_result"
    }
   ],
   "source": [
    "yes_rsvp_count.describe()"
   ]
  },
  {
   "cell_type": "markdown",
   "metadata": {},
   "source": [
    "Next I'd like to graph the number of RSVPs over time to see if there are any interesting trends. To do this let's first ``sum`` the ``waitlist_count`` and ``yes_rsvp_count`` columns and make a new column called ``total_RSVP_count``."
   ]
  },
  {
   "cell_type": "code",
   "execution_count": 10,
   "metadata": {
    "collapsed": false
   },
   "outputs": [
    {
     "data": {
      "text/plain": [
       "0      17\n",
       "1      61\n",
       "2      47\n",
       "3      62\n",
       "4      56\n",
       "5      46\n",
       "6      77\n",
       "7      64\n",
       "8      50\n",
       "9      67\n",
       "10     69\n",
       "11     69\n",
       "12     39\n",
       "13     60\n",
       "14     44\n",
       "15     41\n",
       "16     70\n",
       "17    140\n",
       "18    114\n",
       "19    134\n",
       "20    146\n",
       "Name: total_RSVP_count, dtype: int64"
      ]
     },
     "execution_count": 10,
     "metadata": {},
     "output_type": "execute_result"
    }
   ],
   "source": [
    "events_df['total_RSVP_count'] = events_df['waitlist_count'] + events_df['yes_rsvp_count']\n",
    "events_df['total_RSVP_count']"
   ]
  },
  {
   "cell_type": "markdown",
   "metadata": {},
   "source": [
    "We can plot these values using the ``plot`` method"
   ]
  },
  {
   "cell_type": "code",
   "execution_count": 11,
   "metadata": {
    "collapsed": false
   },
   "outputs": [
    {
     "data": {
      "text/plain": [
       "<matplotlib.axes._subplots.AxesSubplot at 0x108ec2a50>"
      ]
     },
     "execution_count": 11,
     "metadata": {},
     "output_type": "execute_result"
    },
    {
     "data": {
      "image/png": "[encoded data removed]",
      "text/plain": [
       "<matplotlib.figure.Figure at 0x1039f7ad0>"
      ]
     },
     "metadata": {},
     "output_type": "display_data"
    }
   ],
   "source": [
    "events_df['total_RSVP_count'].plot()"
   ]
  },
  {
   "cell_type": "markdown",
   "metadata": {},
   "source": [
    "The plot method utilizes the ``matplotlib`` library behind the scenes to draw the plot. This is interesting, but it would be nice to have the dates of the meetups on the X-axis of the plot.\n",
    "\n",
    "To accomplish this, let's convert the ``time`` field from a unix epoch timestamp to a python ``datetime`` utilizing the ``apply`` method and a function."
   ]
  },
  {
   "cell_type": "code",
   "execution_count": 12,
   "metadata": {
    "collapsed": false
   },
   "outputs": [
    {
     "data": {
      "text/html": [
       "<div>\n",
       "<table border=\"1\" class=\"dataframe\">\n",
       "  <thead>\n",
       "    <tr style=\"text-align: right;\">\n",
       "      <th></th>\n",
       "      <th>created</th>\n",
       "      <th>name</th>\n",
       "      <th>rating</th>\n",
       "      <th>time</th>\n",
       "      <th>waitlist_count</th>\n",
       "      <th>yes_rsvp_count</th>\n",
       "      <th>id</th>\n",
       "      <th>total_RSVP_count</th>\n",
       "    </tr>\n",
       "  </thead>\n",
       "  <tbody>\n",
       "    <tr>\n",
       "      <th>0</th>\n",
       "      <td>1351948193000</td>\n",
       "      <td>Meet and greet</td>\n",
       "      <td>{u'count': 3, u'average': 5}</td>\n",
       "      <td>1352934000000</td>\n",
       "      <td>0</td>\n",
       "      <td>17</td>\n",
       "      <td>89769502</td>\n",
       "      <td>17</td>\n",
       "    </tr>\n",
       "    <tr>\n",
       "      <th>1</th>\n",
       "      <td>1357781071000</td>\n",
       "      <td>DataPhilly January 2013 Meetup - An Introducti...</td>\n",
       "      <td>{u'count': 6, u'average': 4.17000007629}</td>\n",
       "      <td>1359588600000</td>\n",
       "      <td>0</td>\n",
       "      <td>61</td>\n",
       "      <td>98833672</td>\n",
       "      <td>61</td>\n",
       "    </tr>\n",
       "  </tbody>\n",
       "</table>\n",
       "</div>"
      ],
      "text/plain": [
       "         created                                               name  \\\n",
       "0  1351948193000                                     Meet and greet   \n",
       "1  1357781071000  DataPhilly January 2013 Meetup - An Introducti...   \n",
       "\n",
       "                                     rating           time  waitlist_count  \\\n",
       "0              {u'count': 3, u'average': 5}  1352934000000               0   \n",
       "1  {u'count': 6, u'average': 4.17000007629}  1359588600000               0   \n",
       "\n",
       "   yes_rsvp_count        id  total_RSVP_count  \n",
       "0              17  89769502                17  \n",
       "1              61  98833672                61  "
      ]
     },
     "execution_count": 12,
     "metadata": {},
     "output_type": "execute_result"
    }
   ],
   "source": [
    "events_df.head(2)"
   ]
  },
  {
   "cell_type": "code",
   "execution_count": 13,
   "metadata": {
    "collapsed": true
   },
   "outputs": [],
   "source": [
    "import datetime\n",
    "def get_datetime_from_epoch(epoch):\n",
    "    return datetime.datetime.fromtimestamp(epoch/1000.0)"
   ]
  },
  {
   "cell_type": "code",
   "execution_count": 14,
   "metadata": {
    "collapsed": false
   },
   "outputs": [
    {
     "data": {
      "text/plain": [
       "0    2012-11-14 18:00:00\n",
       "1    2013-01-30 18:30:00\n",
       "2    2013-02-19 18:30:00\n",
       "3    2013-03-27 18:30:00\n",
       "4    2013-04-16 18:30:00\n",
       "5    2013-06-05 18:30:00\n",
       "6    2013-08-20 18:30:00\n",
       "7    2013-09-26 18:30:00\n",
       "8    2013-10-23 18:00:00\n",
       "9    2013-11-18 18:00:00\n",
       "10   2014-01-29 18:00:00\n",
       "11   2014-03-12 18:00:00\n",
       "12   2014-04-16 18:00:00\n",
       "13   2014-05-21 18:00:00\n",
       "14   2014-10-07 18:00:00\n",
       "15   2014-11-06 18:00:00\n",
       "16   2014-12-16 18:00:00\n",
       "17   2015-02-19 18:00:00\n",
       "18   2015-03-19 18:00:00\n",
       "19   2015-04-16 18:00:00\n",
       "20   2015-10-22 18:00:00\n",
       "Name: time, dtype: datetime64[ns]"
      ]
     },
     "execution_count": 14,
     "metadata": {},
     "output_type": "execute_result"
    }
   ],
   "source": [
    "events_df['time'] = events_df.time.apply(get_datetime_from_epoch)\n",
    "events_df['time']"
   ]
  },
  {
   "cell_type": "markdown",
   "metadata": {},
   "source": [
    "Next let's make the ``time`` column the index of the ``DataFrame`` using the ``set_index`` method and then re-``plot`` our data."
   ]
  },
  {
   "cell_type": "code",
   "execution_count": 15,
   "metadata": {
    "collapsed": false
   },
   "outputs": [
    {
     "data": {
      "text/plain": [
       "<matplotlib.axes._subplots.AxesSubplot at 0x1095fc490>"
      ]
     },
     "execution_count": 15,
     "metadata": {},
     "output_type": "execute_result"
    },
    {
     "data": {
      "image/png": "[encoded data removed]",
      "text/plain": [
       "<matplotlib.figure.Figure at 0x1039f71d0>"
      ]
     },
     "metadata": {},
     "output_type": "display_data"
    }
   ],
   "source": [
    "events_df.set_index('time', inplace=True)\n",
    "events_df[['total_RSVP_count']].plot()"
   ]
  },
  {
   "cell_type": "markdown",
   "metadata": {},
   "source": [
    "We can also easily plot multiple columns on the same plot."
   ]
  },
  {
   "cell_type": "code",
   "execution_count": 16,
   "metadata": {
    "collapsed": false
   },
   "outputs": [
    {
     "data": {
      "text/plain": [
       "<matplotlib.axes._subplots.AxesSubplot at 0x1098d4890>"
      ]
     },
     "execution_count": 16,
     "metadata": {},
     "output_type": "execute_result"
    },
    {
     "data": {
      "image/png": "[encoded data removed]",
      "text/plain": [
       "<matplotlib.figure.Figure at 0x10995fb90>"
      ]
     },
     "metadata": {},
     "output_type": "display_data"
    }
   ],
   "source": [
    "all_rsvps = events_df[['yes_rsvp_count', 'waitlist_count', 'total_RSVP_count']]\n",
    "all_rsvps.plot(title='Attendance over time')"
   ]
  },
  {
   "cell_type": "markdown",
   "metadata": {},
   "source": [
    "Alright so I'm seeing some interesting trends here. Let's take a look at something different.\n",
    "\n",
    "The Meetup API also provides us access to member info. Let's have a look at the data we have available:"
   ]
  },
  {
   "cell_type": "code",
   "execution_count": 17,
   "metadata": {
    "collapsed": false
   },
   "outputs": [
    {
     "data": {
      "text/html": [
       "<div>\n",
       "<table border=\"1\" class=\"dataframe\">\n",
       "  <thead>\n",
       "    <tr style=\"text-align: right;\">\n",
       "      <th></th>\n",
       "      <th>anon_id</th>\n",
       "      <th>anon_name</th>\n",
       "      <th>bio</th>\n",
       "      <th>city</th>\n",
       "      <th>country</th>\n",
       "      <th>gender</th>\n",
       "      <th>hometown</th>\n",
       "      <th>joined</th>\n",
       "      <th>lat</th>\n",
       "      <th>lon</th>\n",
       "      <th>membership_count</th>\n",
       "      <th>state</th>\n",
       "      <th>topics</th>\n",
       "      <th>visited</th>\n",
       "    </tr>\n",
       "  </thead>\n",
       "  <tbody>\n",
       "    <tr>\n",
       "      <th>0</th>\n",
       "      <td>0</td>\n",
       "      <td>James</td>\n",
       "      <td>NaN</td>\n",
       "      <td>Philadelphia</td>\n",
       "      <td>us</td>\n",
       "      <td>male</td>\n",
       "      <td>Philadelphia</td>\n",
       "      <td>2015-10-10 21:43:33</td>\n",
       "      <td>39.94</td>\n",
       "      <td>-75.23</td>\n",
       "      <td>0</td>\n",
       "      <td>PA</td>\n",
       "      <td>[{u'name': u'Poker', u'urlkey': u'poker', u'id...</td>\n",
       "      <td>2015-10-10 21:43:33</td>\n",
       "    </tr>\n",
       "    <tr>\n",
       "      <th>1</th>\n",
       "      <td>1</td>\n",
       "      <td>Vijay</td>\n",
       "      <td>java software developer in center city philly</td>\n",
       "      <td>Philadelphia</td>\n",
       "      <td>us</td>\n",
       "      <td>male</td>\n",
       "      <td>Philadelphia</td>\n",
       "      <td>2013-11-22 22:32:04</td>\n",
       "      <td>39.96</td>\n",
       "      <td>-75.20</td>\n",
       "      <td>0</td>\n",
       "      <td>PA</td>\n",
       "      <td>[]</td>\n",
       "      <td>2015-04-13 20:20:24</td>\n",
       "    </tr>\n",
       "    <tr>\n",
       "      <th>2</th>\n",
       "      <td>2</td>\n",
       "      <td>Justin</td>\n",
       "      <td>NaN</td>\n",
       "      <td>Philadelphia</td>\n",
       "      <td>us</td>\n",
       "      <td>male</td>\n",
       "      <td>NaN</td>\n",
       "      <td>2015-06-10 16:18:43</td>\n",
       "      <td>40.00</td>\n",
       "      <td>-75.14</td>\n",
       "      <td>63</td>\n",
       "      <td>PA</td>\n",
       "      <td>[{u'name': u'Extreme Programming', u'urlkey': ...</td>\n",
       "      <td>2015-10-22 15:42:23</td>\n",
       "    </tr>\n",
       "  </tbody>\n",
       "</table>\n",
       "</div>"
      ],
      "text/plain": [
       "   anon_id anon_name                                            bio  \\\n",
       "0        0     James                                            NaN   \n",
       "1        1     Vijay  java software developer in center city philly   \n",
       "2        2    Justin                                            NaN   \n",
       "\n",
       "           city country gender      hometown              joined    lat  \\\n",
       "0  Philadelphia      us   male  Philadelphia 2015-10-10 21:43:33  39.94   \n",
       "1  Philadelphia      us   male  Philadelphia 2013-11-22 22:32:04  39.96   \n",
       "2  Philadelphia      us   male           NaN 2015-06-10 16:18:43  40.00   \n",
       "\n",
       "     lon  membership_count state  \\\n",
       "0 -75.23                 0    PA   \n",
       "1 -75.20                 0    PA   \n",
       "2 -75.14                63    PA   \n",
       "\n",
       "                                              topics             visited  \n",
       "0  [{u'name': u'Poker', u'urlkey': u'poker', u'id... 2015-10-10 21:43:33  \n",
       "1                                                 [] 2015-04-13 20:20:24  \n",
       "2  [{u'name': u'Extreme Programming', u'urlkey': ... 2015-10-22 15:42:23  "
      ]
     },
     "execution_count": 17,
     "metadata": {},
     "output_type": "execute_result"
    }
   ],
   "source": [
    "members_df = pd.read_pickle('members.pkl')\n",
    "for column in ['joined', 'visited']:\n",
    "    members_df[column] = members_df[column].apply(get_datetime_from_epoch)\n",
    "members_df.head(3)"
   ]
  },
  {
   "cell_type": "markdown",
   "metadata": {},
   "source": [
    "You'll notice that I've anonimized the meetup member_id and the members name. I've also used the python module [``SexMachine``](https://pypi.python.org/pypi/SexMachine/) to infer members gender based on their first name. Let's have a closer look at the gender breakdown of our members:"
   ]
  },
  {
   "cell_type": "code",
   "execution_count": 18,
   "metadata": {
    "collapsed": false
   },
   "outputs": [
    {
     "data": {
      "text/plain": [
       "male             716\n",
       "andy             257\n",
       "female           175\n",
       "mostly_male       91\n",
       "mostly_female     35\n",
       "Name: gender, dtype: int64"
      ]
     },
     "execution_count": 18,
     "metadata": {},
     "output_type": "execute_result"
    }
   ],
   "source": [
    "gender_counts = members_df['gender'].value_counts()\n",
    "gender_counts"
   ]
  },
  {
   "cell_type": "markdown",
   "metadata": {},
   "source": [
    "Next let's use the ``hist`` method to plot a histogram of ``membership_count``. This is the number of groups each member is in."
   ]
  },
  {
   "cell_type": "code",
   "execution_count": 19,
   "metadata": {
    "collapsed": false
   },
   "outputs": [
    {
     "data": {
      "text/plain": [
       "<matplotlib.axes._subplots.AxesSubplot at 0x10b0bed50>"
      ]
     },
     "execution_count": 19,
     "metadata": {},
     "output_type": "execute_result"
    },
    {
     "data": {
      "image/png": "[encoded data removed]",
      "text/plain": [
       "<matplotlib.figure.Figure at 0x109d36090>"
      ]
     },
     "metadata": {},
     "output_type": "display_data"
    }
   ],
   "source": [
    "members_df['membership_count'].hist(bins=20)"
   ]
  },
  {
   "cell_type": "markdown",
   "metadata": {},
   "source": [
    "Something looks odd here let's check out the ``value_counts``:"
   ]
  },
  {
   "cell_type": "code",
   "execution_count": 20,
   "metadata": {
    "collapsed": false
   },
   "outputs": [
    {
     "data": {
      "text/plain": [
       "0    124\n",
       "2    105\n",
       "1     96\n",
       "3     86\n",
       "5     77\n",
       "Name: membership_count, dtype: int64"
      ]
     },
     "execution_count": 20,
     "metadata": {},
     "output_type": "execute_result"
    }
   ],
   "source": [
    "members_df['membership_count'].value_counts().head()"
   ]
  },
  {
   "cell_type": "markdown",
   "metadata": {},
   "source": [
    "Okay so most members are members of 0 meetup groups?! This seems odd! I did a little digging and came up with the answer; members can set their membership details to be private, and then this value will be zero. Let's filter out these members and recreate the histogram."
   ]
  },
  {
   "cell_type": "code",
   "execution_count": 21,
   "metadata": {
    "collapsed": false
   },
   "outputs": [
    {
     "data": {
      "text/plain": [
       "<matplotlib.axes._subplots.AxesSubplot at 0x10b3ccf90>"
      ]
     },
     "execution_count": 21,
     "metadata": {},
     "output_type": "execute_result"
    },
    {
     "data": {
      "image/png": "[encoded data removed]",
      "text/plain": [
       "<matplotlib.figure.Figure at 0x10b38a790>"
      ]
     },
     "metadata": {},
     "output_type": "display_data"
    }
   ],
   "source": [
    "members_df_non_zero = members_df[members_df['membership_count'] != 0]\n",
    "members_df_non_zero['membership_count'].hist(bins=50)"
   ]
  },
  {
   "cell_type": "markdown",
   "metadata": {},
   "source": [
    "Okay so most members are only members of a few meetup groups. There's some outliers that are pretty hard to read, let's try plotting this on a logaritmic scale to see if that helps:"
   ]
  },
  {
   "cell_type": "code",
   "execution_count": 22,
   "metadata": {
    "collapsed": false
   },
   "outputs": [
    {
     "data": {
      "image/png": "[encoded data removed]",
      "text/plain": [
       "<matplotlib.figure.Figure at 0x109d5ad10>"
      ]
     },
     "metadata": {},
     "output_type": "display_data"
    }
   ],
   "source": [
    "ax = members_df_non_zero['membership_count'].hist(bins=50)\n",
    "ax.set_yscale('log')"
   ]
  },
  {
   "cell_type": "markdown",
   "metadata": {},
   "source": [
    "Let's use a ``mask`` to filter out the outliers so we can dig into them a little further:"
   ]
  },
  {
   "cell_type": "code",
   "execution_count": 23,
   "metadata": {
    "collapsed": false
   },
   "outputs": [
    {
     "data": {
      "text/html": [
       "<div>\n",
       "<table border=\"1\" class=\"dataframe\">\n",
       "  <thead>\n",
       "    <tr style=\"text-align: right;\">\n",
       "      <th></th>\n",
       "      <th>membership_count</th>\n",
       "      <th>city</th>\n",
       "      <th>country</th>\n",
       "      <th>state</th>\n",
       "    </tr>\n",
       "  </thead>\n",
       "  <tbody>\n",
       "    <tr>\n",
       "      <th>301</th>\n",
       "      <td>1838</td>\n",
       "      <td>Berlin</td>\n",
       "      <td>de</td>\n",
       "      <td>NaN</td>\n",
       "    </tr>\n",
       "    <tr>\n",
       "      <th>25</th>\n",
       "      <td>816</td>\n",
       "      <td>San Francisco</td>\n",
       "      <td>us</td>\n",
       "      <td>CA</td>\n",
       "    </tr>\n",
       "    <tr>\n",
       "      <th>141</th>\n",
       "      <td>651</td>\n",
       "      <td>Jerusalem</td>\n",
       "      <td>il</td>\n",
       "      <td>NaN</td>\n",
       "    </tr>\n",
       "    <tr>\n",
       "      <th>67</th>\n",
       "      <td>303</td>\n",
       "      <td>Philadelphia</td>\n",
       "      <td>us</td>\n",
       "      <td>PA</td>\n",
       "    </tr>\n",
       "    <tr>\n",
       "      <th>420</th>\n",
       "      <td>295</td>\n",
       "      <td>Baltimore</td>\n",
       "      <td>us</td>\n",
       "      <td>MD</td>\n",
       "    </tr>\n",
       "    <tr>\n",
       "      <th>1178</th>\n",
       "      <td>278</td>\n",
       "      <td>Princeton</td>\n",
       "      <td>us</td>\n",
       "      <td>NJ</td>\n",
       "    </tr>\n",
       "    <tr>\n",
       "      <th>257</th>\n",
       "      <td>241</td>\n",
       "      <td>New York</td>\n",
       "      <td>us</td>\n",
       "      <td>NY</td>\n",
       "    </tr>\n",
       "    <tr>\n",
       "      <th>223</th>\n",
       "      <td>207</td>\n",
       "      <td>Scarsdale</td>\n",
       "      <td>us</td>\n",
       "      <td>NY</td>\n",
       "    </tr>\n",
       "    <tr>\n",
       "      <th>150</th>\n",
       "      <td>197</td>\n",
       "      <td>Philadelphia</td>\n",
       "      <td>us</td>\n",
       "      <td>PA</td>\n",
       "    </tr>\n",
       "    <tr>\n",
       "      <th>174</th>\n",
       "      <td>166</td>\n",
       "      <td>Philadelphia</td>\n",
       "      <td>us</td>\n",
       "      <td>PA</td>\n",
       "    </tr>\n",
       "    <tr>\n",
       "      <th>86</th>\n",
       "      <td>166</td>\n",
       "      <td>West Chester</td>\n",
       "      <td>us</td>\n",
       "      <td>PA</td>\n",
       "    </tr>\n",
       "    <tr>\n",
       "      <th>449</th>\n",
       "      <td>146</td>\n",
       "      <td>Exton</td>\n",
       "      <td>us</td>\n",
       "      <td>PA</td>\n",
       "    </tr>\n",
       "    <tr>\n",
       "      <th>154</th>\n",
       "      <td>119</td>\n",
       "      <td>San Francisco</td>\n",
       "      <td>us</td>\n",
       "      <td>CA</td>\n",
       "    </tr>\n",
       "    <tr>\n",
       "      <th>1158</th>\n",
       "      <td>119</td>\n",
       "      <td>Philadelphia</td>\n",
       "      <td>us</td>\n",
       "      <td>PA</td>\n",
       "    </tr>\n",
       "    <tr>\n",
       "      <th>1022</th>\n",
       "      <td>113</td>\n",
       "      <td>Levittown</td>\n",
       "      <td>us</td>\n",
       "      <td>PA</td>\n",
       "    </tr>\n",
       "    <tr>\n",
       "      <th>868</th>\n",
       "      <td>106</td>\n",
       "      <td>Seattle</td>\n",
       "      <td>us</td>\n",
       "      <td>WA</td>\n",
       "    </tr>\n",
       "    <tr>\n",
       "      <th>987</th>\n",
       "      <td>102</td>\n",
       "      <td>San Francisco</td>\n",
       "      <td>us</td>\n",
       "      <td>CA</td>\n",
       "    </tr>\n",
       "  </tbody>\n",
       "</table>\n",
       "</div>"
      ],
      "text/plain": [
       "      membership_count           city country state\n",
       "301               1838         Berlin      de   NaN\n",
       "25                 816  San Francisco      us    CA\n",
       "141                651      Jerusalem      il   NaN\n",
       "67                 303   Philadelphia      us    PA\n",
       "420                295      Baltimore      us    MD\n",
       "1178               278      Princeton      us    NJ\n",
       "257                241       New York      us    NY\n",
       "223                207      Scarsdale      us    NY\n",
       "150                197   Philadelphia      us    PA\n",
       "174                166   Philadelphia      us    PA\n",
       "86                 166   West Chester      us    PA\n",
       "449                146          Exton      us    PA\n",
       "154                119  San Francisco      us    CA\n",
       "1158               119   Philadelphia      us    PA\n",
       "1022               113      Levittown      us    PA\n",
       "868                106        Seattle      us    WA\n",
       "987                102  San Francisco      us    CA"
      ]
     },
     "execution_count": 23,
     "metadata": {},
     "output_type": "execute_result"
    }
   ],
   "source": [
    "all_the_meetups = members_df[members_df['membership_count'] > 100]\n",
    "filtered = all_the_meetups[['membership_count', 'city', 'country', 'state']]\n",
    "filtered.sort_values(by='membership_count', ascending=False)"
   ]
  },
  {
   "cell_type": "markdown",
   "metadata": {},
   "source": [
    "The people from Philly might actually be legitimate members, let's use a compound mask to filter them out as well:"
   ]
  },
  {
   "cell_type": "code",
   "execution_count": 24,
   "metadata": {
    "collapsed": false
   },
   "outputs": [
    {
     "data": {
      "text/html": [
       "<div>\n",
       "<table border=\"1\" class=\"dataframe\">\n",
       "  <thead>\n",
       "    <tr style=\"text-align: right;\">\n",
       "      <th></th>\n",
       "      <th>membership_count</th>\n",
       "      <th>city</th>\n",
       "      <th>country</th>\n",
       "      <th>state</th>\n",
       "    </tr>\n",
       "  </thead>\n",
       "  <tbody>\n",
       "    <tr>\n",
       "      <th>301</th>\n",
       "      <td>1838</td>\n",
       "      <td>Berlin</td>\n",
       "      <td>de</td>\n",
       "      <td>NaN</td>\n",
       "    </tr>\n",
       "    <tr>\n",
       "      <th>25</th>\n",
       "      <td>816</td>\n",
       "      <td>San Francisco</td>\n",
       "      <td>us</td>\n",
       "      <td>CA</td>\n",
       "    </tr>\n",
       "    <tr>\n",
       "      <th>141</th>\n",
       "      <td>651</td>\n",
       "      <td>Jerusalem</td>\n",
       "      <td>il</td>\n",
       "      <td>NaN</td>\n",
       "    </tr>\n",
       "    <tr>\n",
       "      <th>420</th>\n",
       "      <td>295</td>\n",
       "      <td>Baltimore</td>\n",
       "      <td>us</td>\n",
       "      <td>MD</td>\n",
       "    </tr>\n",
       "    <tr>\n",
       "      <th>1178</th>\n",
       "      <td>278</td>\n",
       "      <td>Princeton</td>\n",
       "      <td>us</td>\n",
       "      <td>NJ</td>\n",
       "    </tr>\n",
       "    <tr>\n",
       "      <th>257</th>\n",
       "      <td>241</td>\n",
       "      <td>New York</td>\n",
       "      <td>us</td>\n",
       "      <td>NY</td>\n",
       "    </tr>\n",
       "    <tr>\n",
       "      <th>223</th>\n",
       "      <td>207</td>\n",
       "      <td>Scarsdale</td>\n",
       "      <td>us</td>\n",
       "      <td>NY</td>\n",
       "    </tr>\n",
       "    <tr>\n",
       "      <th>86</th>\n",
       "      <td>166</td>\n",
       "      <td>West Chester</td>\n",
       "      <td>us</td>\n",
       "      <td>PA</td>\n",
       "    </tr>\n",
       "    <tr>\n",
       "      <th>449</th>\n",
       "      <td>146</td>\n",
       "      <td>Exton</td>\n",
       "      <td>us</td>\n",
       "      <td>PA</td>\n",
       "    </tr>\n",
       "    <tr>\n",
       "      <th>154</th>\n",
       "      <td>119</td>\n",
       "      <td>San Francisco</td>\n",
       "      <td>us</td>\n",
       "      <td>CA</td>\n",
       "    </tr>\n",
       "    <tr>\n",
       "      <th>1022</th>\n",
       "      <td>113</td>\n",
       "      <td>Levittown</td>\n",
       "      <td>us</td>\n",
       "      <td>PA</td>\n",
       "    </tr>\n",
       "    <tr>\n",
       "      <th>868</th>\n",
       "      <td>106</td>\n",
       "      <td>Seattle</td>\n",
       "      <td>us</td>\n",
       "      <td>WA</td>\n",
       "    </tr>\n",
       "    <tr>\n",
       "      <th>987</th>\n",
       "      <td>102</td>\n",
       "      <td>San Francisco</td>\n",
       "      <td>us</td>\n",
       "      <td>CA</td>\n",
       "    </tr>\n",
       "  </tbody>\n",
       "</table>\n",
       "</div>"
      ],
      "text/plain": [
       "      membership_count           city country state\n",
       "301               1838         Berlin      de   NaN\n",
       "25                 816  San Francisco      us    CA\n",
       "141                651      Jerusalem      il   NaN\n",
       "420                295      Baltimore      us    MD\n",
       "1178               278      Princeton      us    NJ\n",
       "257                241       New York      us    NY\n",
       "223                207      Scarsdale      us    NY\n",
       "86                 166   West Chester      us    PA\n",
       "449                146          Exton      us    PA\n",
       "154                119  San Francisco      us    CA\n",
       "1022               113      Levittown      us    PA\n",
       "868                106        Seattle      us    WA\n",
       "987                102  San Francisco      us    CA"
      ]
     },
     "execution_count": 24,
     "metadata": {},
     "output_type": "execute_result"
    }
   ],
   "source": [
    "all_the_meetups = members_df[\n",
    "    (members_df['membership_count'] > 100) & (members_df['city'] != 'Philadelphia')\n",
    "]\n",
    "filtered = all_the_meetups[['membership_count', 'city', 'country', 'state']]\n",
    "filtered.sort_values(by='membership_count', ascending=False)"
   ]
  },
  {
   "cell_type": "markdown",
   "metadata": {},
   "source": [
    "That's strange, I don't think we've ever had any members from Berlin, San Francisco, or Jerusalem in attendance :-)."
   ]
  },
  {
   "cell_type": "markdown",
   "metadata": {},
   "source": [
    "Moving on, we also have all the events that each member RSVPed to:"
   ]
  },
  {
   "cell_type": "code",
   "execution_count": 25,
   "metadata": {
    "collapsed": false
   },
   "outputs": [
    {
     "data": {
      "text/html": [
       "<div>\n",
       "<table border=\"1\" class=\"dataframe\">\n",
       "  <thead>\n",
       "    <tr style=\"text-align: right;\">\n",
       "      <th></th>\n",
       "      <th>102502622</th>\n",
       "      <th>106043892</th>\n",
       "      <th>107740582</th>\n",
       "      <th>120425212</th>\n",
       "      <th>133803672</th>\n",
       "      <th>138415912</th>\n",
       "      <th>144769822</th>\n",
       "      <th>149515412</th>\n",
       "      <th>160323532</th>\n",
       "      <th>168747852</th>\n",
       "      <th>...</th>\n",
       "      <th>206754182</th>\n",
       "      <th>215265722</th>\n",
       "      <th>219055217</th>\n",
       "      <th>219840555</th>\n",
       "      <th>220526799</th>\n",
       "      <th>221245827</th>\n",
       "      <th>225488147</th>\n",
       "      <th>89769502</th>\n",
       "      <th>98833672</th>\n",
       "      <th>member_id</th>\n",
       "    </tr>\n",
       "  </thead>\n",
       "  <tbody>\n",
       "    <tr>\n",
       "      <th>0</th>\n",
       "      <td>0</td>\n",
       "      <td>0</td>\n",
       "      <td>0</td>\n",
       "      <td>0</td>\n",
       "      <td>0</td>\n",
       "      <td>0</td>\n",
       "      <td>0</td>\n",
       "      <td>0</td>\n",
       "      <td>0</td>\n",
       "      <td>0</td>\n",
       "      <td>...</td>\n",
       "      <td>1</td>\n",
       "      <td>0</td>\n",
       "      <td>0</td>\n",
       "      <td>1</td>\n",
       "      <td>0</td>\n",
       "      <td>0</td>\n",
       "      <td>0</td>\n",
       "      <td>0</td>\n",
       "      <td>0</td>\n",
       "      <td>151</td>\n",
       "    </tr>\n",
       "    <tr>\n",
       "      <th>1</th>\n",
       "      <td>0</td>\n",
       "      <td>0</td>\n",
       "      <td>0</td>\n",
       "      <td>0</td>\n",
       "      <td>0</td>\n",
       "      <td>0</td>\n",
       "      <td>0</td>\n",
       "      <td>0</td>\n",
       "      <td>0</td>\n",
       "      <td>0</td>\n",
       "      <td>...</td>\n",
       "      <td>0</td>\n",
       "      <td>0</td>\n",
       "      <td>0</td>\n",
       "      <td>0</td>\n",
       "      <td>0</td>\n",
       "      <td>0</td>\n",
       "      <td>1</td>\n",
       "      <td>0</td>\n",
       "      <td>0</td>\n",
       "      <td>370</td>\n",
       "    </tr>\n",
       "    <tr>\n",
       "      <th>2</th>\n",
       "      <td>1</td>\n",
       "      <td>0</td>\n",
       "      <td>0</td>\n",
       "      <td>0</td>\n",
       "      <td>0</td>\n",
       "      <td>0</td>\n",
       "      <td>0</td>\n",
       "      <td>0</td>\n",
       "      <td>0</td>\n",
       "      <td>0</td>\n",
       "      <td>...</td>\n",
       "      <td>0</td>\n",
       "      <td>0</td>\n",
       "      <td>0</td>\n",
       "      <td>0</td>\n",
       "      <td>0</td>\n",
       "      <td>0</td>\n",
       "      <td>0</td>\n",
       "      <td>0</td>\n",
       "      <td>1</td>\n",
       "      <td>157</td>\n",
       "    </tr>\n",
       "  </tbody>\n",
       "</table>\n",
       "<p>3 rows × 22 columns</p>\n",
       "</div>"
      ],
      "text/plain": [
       "   102502622  106043892  107740582  120425212  133803672  138415912  \\\n",
       "0          0          0          0          0          0          0   \n",
       "1          0          0          0          0          0          0   \n",
       "2          1          0          0          0          0          0   \n",
       "\n",
       "   144769822  149515412  160323532  168747852    ...      206754182  \\\n",
       "0          0          0          0          0    ...              1   \n",
       "1          0          0          0          0    ...              0   \n",
       "2          0          0          0          0    ...              0   \n",
       "\n",
       "   215265722  219055217  219840555  220526799  221245827  225488147  89769502  \\\n",
       "0          0          0          1          0          0          0         0   \n",
       "1          0          0          0          0          0          1         0   \n",
       "2          0          0          0          0          0          0         0   \n",
       "\n",
       "   98833672  member_id  \n",
       "0         0        151  \n",
       "1         0        370  \n",
       "2         1        157  \n",
       "\n",
       "[3 rows x 22 columns]"
      ]
     },
     "execution_count": 25,
     "metadata": {},
     "output_type": "execute_result"
    }
   ],
   "source": [
    "rsvps_df = pd.read_pickle('rsvps.pkl')\n",
    "rsvps_df.head(3)"
   ]
  },
  {
   "cell_type": "markdown",
   "metadata": {},
   "source": [
    "We can utilize the pandas ``merge`` method to join our members ``DataFrame`` and our rsvps ``DataFrame``:"
   ]
  },
  {
   "cell_type": "code",
   "execution_count": 26,
   "metadata": {
    "collapsed": false
   },
   "outputs": [
    {
     "data": {
      "text/html": [
       "<div>\n",
       "<table border=\"1\" class=\"dataframe\">\n",
       "  <thead>\n",
       "    <tr style=\"text-align: right;\">\n",
       "      <th></th>\n",
       "      <th>anon_id</th>\n",
       "      <th>anon_name</th>\n",
       "      <th>bio</th>\n",
       "      <th>city</th>\n",
       "      <th>country</th>\n",
       "      <th>gender</th>\n",
       "      <th>hometown</th>\n",
       "      <th>joined</th>\n",
       "      <th>lat</th>\n",
       "      <th>lon</th>\n",
       "      <th>...</th>\n",
       "      <th>206754182</th>\n",
       "      <th>215265722</th>\n",
       "      <th>219055217</th>\n",
       "      <th>219840555</th>\n",
       "      <th>220526799</th>\n",
       "      <th>221245827</th>\n",
       "      <th>225488147</th>\n",
       "      <th>89769502</th>\n",
       "      <th>98833672</th>\n",
       "      <th>member_id</th>\n",
       "    </tr>\n",
       "  </thead>\n",
       "  <tbody>\n",
       "    <tr>\n",
       "      <th>0</th>\n",
       "      <td>4</td>\n",
       "      <td>Edward</td>\n",
       "      <td>NaN</td>\n",
       "      <td>Downingtown</td>\n",
       "      <td>us</td>\n",
       "      <td>male</td>\n",
       "      <td>Philadelphia</td>\n",
       "      <td>2015-05-20 05:24:59</td>\n",
       "      <td>40.02</td>\n",
       "      <td>-75.71</td>\n",
       "      <td>...</td>\n",
       "      <td>0</td>\n",
       "      <td>0</td>\n",
       "      <td>0</td>\n",
       "      <td>0</td>\n",
       "      <td>0</td>\n",
       "      <td>0</td>\n",
       "      <td>1</td>\n",
       "      <td>0</td>\n",
       "      <td>0</td>\n",
       "      <td>4</td>\n",
       "    </tr>\n",
       "    <tr>\n",
       "      <th>1</th>\n",
       "      <td>8</td>\n",
       "      <td>John</td>\n",
       "      <td>CTO as SnipSnap, the coupon app</td>\n",
       "      <td>Woodbury</td>\n",
       "      <td>us</td>\n",
       "      <td>male</td>\n",
       "      <td>NaN</td>\n",
       "      <td>2013-01-29 22:49:12</td>\n",
       "      <td>39.83</td>\n",
       "      <td>-75.13</td>\n",
       "      <td>...</td>\n",
       "      <td>0</td>\n",
       "      <td>0</td>\n",
       "      <td>0</td>\n",
       "      <td>0</td>\n",
       "      <td>0</td>\n",
       "      <td>0</td>\n",
       "      <td>0</td>\n",
       "      <td>0</td>\n",
       "      <td>0</td>\n",
       "      <td>8</td>\n",
       "    </tr>\n",
       "    <tr>\n",
       "      <th>2</th>\n",
       "      <td>11</td>\n",
       "      <td>John</td>\n",
       "      <td>Founder and CEO of Azavea, a firm that builds ...</td>\n",
       "      <td>Philadelphia</td>\n",
       "      <td>us</td>\n",
       "      <td>male</td>\n",
       "      <td>NaN</td>\n",
       "      <td>2012-11-06 12:18:12</td>\n",
       "      <td>39.95</td>\n",
       "      <td>-75.16</td>\n",
       "      <td>...</td>\n",
       "      <td>0</td>\n",
       "      <td>0</td>\n",
       "      <td>0</td>\n",
       "      <td>0</td>\n",
       "      <td>0</td>\n",
       "      <td>0</td>\n",
       "      <td>1</td>\n",
       "      <td>0</td>\n",
       "      <td>1</td>\n",
       "      <td>11</td>\n",
       "    </tr>\n",
       "  </tbody>\n",
       "</table>\n",
       "<p>3 rows × 36 columns</p>\n",
       "</div>"
      ],
      "text/plain": [
       "   anon_id anon_name                                                bio  \\\n",
       "0        4    Edward                                                NaN   \n",
       "1        8      John                    CTO as SnipSnap, the coupon app   \n",
       "2       11      John  Founder and CEO of Azavea, a firm that builds ...   \n",
       "\n",
       "           city country gender      hometown              joined    lat  \\\n",
       "0   Downingtown      us   male  Philadelphia 2015-05-20 05:24:59  40.02   \n",
       "1      Woodbury      us   male           NaN 2013-01-29 22:49:12  39.83   \n",
       "2  Philadelphia      us   male           NaN 2012-11-06 12:18:12  39.95   \n",
       "\n",
       "     lon    ...      206754182 215265722 219055217 219840555  220526799  \\\n",
       "0 -75.71    ...              0         0         0         0          0   \n",
       "1 -75.13    ...              0         0         0         0          0   \n",
       "2 -75.16    ...              0         0         0         0          0   \n",
       "\n",
       "   221245827  225488147  89769502  98833672  member_id  \n",
       "0          0          1         0         0          4  \n",
       "1          0          0         0         0          8  \n",
       "2          0          1         0         1         11  \n",
       "\n",
       "[3 rows x 36 columns]"
      ]
     },
     "execution_count": 26,
     "metadata": {},
     "output_type": "execute_result"
    }
   ],
   "source": [
    "joined_with_rsvps_df = pd.merge(members_df, rsvps_df, left_on='anon_id', right_on='member_id')\n",
    "joined_with_rsvps_df.head(3)"
   ]
  },
  {
   "cell_type": "code",
   "execution_count": 27,
   "metadata": {
    "collapsed": false
   },
   "outputs": [
    {
     "data": {
      "text/plain": [
       "Index([         u'anon_id',        u'anon_name',              u'bio',\n",
       "                   u'city',          u'country',           u'gender',\n",
       "               u'hometown',           u'joined',              u'lat',\n",
       "                    u'lon', u'membership_count',            u'state',\n",
       "                 u'topics',          u'visited',        u'102502622',\n",
       "              u'106043892',        u'107740582',        u'120425212',\n",
       "              u'133803672',        u'138415912',        u'144769822',\n",
       "              u'149515412',        u'160323532',        u'168747852',\n",
       "              u'175993712',        u'182860422',        u'206754182',\n",
       "              u'215265722',        u'219055217',        u'219840555',\n",
       "              u'220526799',        u'221245827',        u'225488147',\n",
       "               u'89769502',         u'98833672',        u'member_id'],\n",
       "      dtype='object')"
      ]
     },
     "execution_count": 27,
     "metadata": {},
     "output_type": "execute_result"
    }
   ],
   "source": [
    "joined_with_rsvps_df.columns"
   ]
  },
  {
   "cell_type": "markdown",
   "metadata": {},
   "source": [
    "Now we have a ton of data, let's see what kind of interesting things we can discover.\n",
    "Let's look at the some stats on male attendees vs. female attendees:"
   ]
  },
  {
   "cell_type": "markdown",
   "metadata": {},
   "source": [
    "First we can use the ``isin`` method to make ``DataFrame``s for male and female members."
   ]
  },
  {
   "cell_type": "code",
   "execution_count": 28,
   "metadata": {
    "collapsed": false
   },
   "outputs": [
    {
     "data": {
      "text/html": [
       "<div>\n",
       "<table border=\"1\" class=\"dataframe\">\n",
       "  <thead>\n",
       "    <tr style=\"text-align: right;\">\n",
       "      <th></th>\n",
       "      <th>anon_id</th>\n",
       "      <th>anon_name</th>\n",
       "      <th>bio</th>\n",
       "      <th>city</th>\n",
       "      <th>country</th>\n",
       "      <th>gender</th>\n",
       "      <th>hometown</th>\n",
       "      <th>joined</th>\n",
       "      <th>lat</th>\n",
       "      <th>lon</th>\n",
       "      <th>...</th>\n",
       "      <th>206754182</th>\n",
       "      <th>215265722</th>\n",
       "      <th>219055217</th>\n",
       "      <th>219840555</th>\n",
       "      <th>220526799</th>\n",
       "      <th>221245827</th>\n",
       "      <th>225488147</th>\n",
       "      <th>89769502</th>\n",
       "      <th>98833672</th>\n",
       "      <th>member_id</th>\n",
       "    </tr>\n",
       "  </thead>\n",
       "  <tbody>\n",
       "    <tr>\n",
       "      <th>578</th>\n",
       "      <td>1261</td>\n",
       "      <td>Tom</td>\n",
       "      <td>NaN</td>\n",
       "      <td>Philadelphia</td>\n",
       "      <td>us</td>\n",
       "      <td>male</td>\n",
       "      <td>NaN</td>\n",
       "      <td>2015-10-06 17:50:59</td>\n",
       "      <td>39.96</td>\n",
       "      <td>-75.20</td>\n",
       "      <td>...</td>\n",
       "      <td>0</td>\n",
       "      <td>0</td>\n",
       "      <td>0</td>\n",
       "      <td>0</td>\n",
       "      <td>0</td>\n",
       "      <td>0</td>\n",
       "      <td>1</td>\n",
       "      <td>0</td>\n",
       "      <td>0</td>\n",
       "      <td>1261</td>\n",
       "    </tr>\n",
       "    <tr>\n",
       "      <th>579</th>\n",
       "      <td>1262</td>\n",
       "      <td>Daniel</td>\n",
       "      <td>NaN</td>\n",
       "      <td>Philadelphia</td>\n",
       "      <td>us</td>\n",
       "      <td>male</td>\n",
       "      <td>NaN</td>\n",
       "      <td>2015-10-07 15:48:58</td>\n",
       "      <td>39.97</td>\n",
       "      <td>-75.17</td>\n",
       "      <td>...</td>\n",
       "      <td>0</td>\n",
       "      <td>0</td>\n",
       "      <td>0</td>\n",
       "      <td>0</td>\n",
       "      <td>0</td>\n",
       "      <td>0</td>\n",
       "      <td>1</td>\n",
       "      <td>0</td>\n",
       "      <td>0</td>\n",
       "      <td>1262</td>\n",
       "    </tr>\n",
       "    <tr>\n",
       "      <th>583</th>\n",
       "      <td>1271</td>\n",
       "      <td>Chris</td>\n",
       "      <td>NaN</td>\n",
       "      <td>Philadelphia</td>\n",
       "      <td>us</td>\n",
       "      <td>male</td>\n",
       "      <td>NaN</td>\n",
       "      <td>2015-10-20 15:00:55</td>\n",
       "      <td>39.96</td>\n",
       "      <td>-75.20</td>\n",
       "      <td>...</td>\n",
       "      <td>0</td>\n",
       "      <td>0</td>\n",
       "      <td>0</td>\n",
       "      <td>0</td>\n",
       "      <td>0</td>\n",
       "      <td>0</td>\n",
       "      <td>1</td>\n",
       "      <td>0</td>\n",
       "      <td>0</td>\n",
       "      <td>1271</td>\n",
       "    </tr>\n",
       "  </tbody>\n",
       "</table>\n",
       "<p>3 rows × 36 columns</p>\n",
       "</div>"
      ],
      "text/plain": [
       "     anon_id anon_name  bio          city country gender hometown  \\\n",
       "578     1261       Tom  NaN  Philadelphia      us   male      NaN   \n",
       "579     1262    Daniel  NaN  Philadelphia      us   male      NaN   \n",
       "583     1271     Chris  NaN  Philadelphia      us   male      NaN   \n",
       "\n",
       "                 joined    lat    lon    ...      206754182 215265722  \\\n",
       "578 2015-10-06 17:50:59  39.96 -75.20    ...              0         0   \n",
       "579 2015-10-07 15:48:58  39.97 -75.17    ...              0         0   \n",
       "583 2015-10-20 15:00:55  39.96 -75.20    ...              0         0   \n",
       "\n",
       "    219055217 219840555  220526799  221245827  225488147  89769502  98833672  \\\n",
       "578         0         0          0          0          1         0         0   \n",
       "579         0         0          0          0          1         0         0   \n",
       "583         0         0          0          0          1         0         0   \n",
       "\n",
       "     member_id  \n",
       "578       1261  \n",
       "579       1262  \n",
       "583       1271  \n",
       "\n",
       "[3 rows x 36 columns]"
      ]
     },
     "execution_count": 28,
     "metadata": {},
     "output_type": "execute_result"
    }
   ],
   "source": [
    "male_attendees = joined_with_rsvps_df[joined_with_rsvps_df['gender'].isin(['male', 'mostly_male'])]\n",
    "male_attendees.tail(3)"
   ]
  },
  {
   "cell_type": "code",
   "execution_count": 29,
   "metadata": {
    "collapsed": false
   },
   "outputs": [
    {
     "data": {
      "text/html": [
       "<div>\n",
       "<table border=\"1\" class=\"dataframe\">\n",
       "  <thead>\n",
       "    <tr style=\"text-align: right;\">\n",
       "      <th></th>\n",
       "      <th>anon_id</th>\n",
       "      <th>anon_name</th>\n",
       "      <th>bio</th>\n",
       "      <th>city</th>\n",
       "      <th>country</th>\n",
       "      <th>gender</th>\n",
       "      <th>hometown</th>\n",
       "      <th>joined</th>\n",
       "      <th>lat</th>\n",
       "      <th>lon</th>\n",
       "      <th>...</th>\n",
       "      <th>206754182</th>\n",
       "      <th>215265722</th>\n",
       "      <th>219055217</th>\n",
       "      <th>219840555</th>\n",
       "      <th>220526799</th>\n",
       "      <th>221245827</th>\n",
       "      <th>225488147</th>\n",
       "      <th>89769502</th>\n",
       "      <th>98833672</th>\n",
       "      <th>member_id</th>\n",
       "    </tr>\n",
       "  </thead>\n",
       "  <tbody>\n",
       "    <tr>\n",
       "      <th>580</th>\n",
       "      <td>1265</td>\n",
       "      <td>Erin</td>\n",
       "      <td>NaN</td>\n",
       "      <td>Philadelphia</td>\n",
       "      <td>us</td>\n",
       "      <td>female</td>\n",
       "      <td>NaN</td>\n",
       "      <td>2015-10-13 18:13:37</td>\n",
       "      <td>39.95</td>\n",
       "      <td>-75.16</td>\n",
       "      <td>...</td>\n",
       "      <td>0</td>\n",
       "      <td>0</td>\n",
       "      <td>0</td>\n",
       "      <td>0</td>\n",
       "      <td>0</td>\n",
       "      <td>0</td>\n",
       "      <td>1</td>\n",
       "      <td>0</td>\n",
       "      <td>0</td>\n",
       "      <td>1265</td>\n",
       "    </tr>\n",
       "    <tr>\n",
       "      <th>581</th>\n",
       "      <td>1268</td>\n",
       "      <td>Anne</td>\n",
       "      <td>NaN</td>\n",
       "      <td>Philadelphia</td>\n",
       "      <td>us</td>\n",
       "      <td>female</td>\n",
       "      <td>Philadelphia</td>\n",
       "      <td>2015-10-18 15:29:42</td>\n",
       "      <td>39.96</td>\n",
       "      <td>-75.20</td>\n",
       "      <td>...</td>\n",
       "      <td>0</td>\n",
       "      <td>0</td>\n",
       "      <td>0</td>\n",
       "      <td>0</td>\n",
       "      <td>0</td>\n",
       "      <td>0</td>\n",
       "      <td>1</td>\n",
       "      <td>0</td>\n",
       "      <td>0</td>\n",
       "      <td>1268</td>\n",
       "    </tr>\n",
       "    <tr>\n",
       "      <th>582</th>\n",
       "      <td>1269</td>\n",
       "      <td>Stacey</td>\n",
       "      <td>NaN</td>\n",
       "      <td>Philadelphia</td>\n",
       "      <td>us</td>\n",
       "      <td>female</td>\n",
       "      <td>NaN</td>\n",
       "      <td>2015-10-20 09:55:35</td>\n",
       "      <td>39.96</td>\n",
       "      <td>-75.20</td>\n",
       "      <td>...</td>\n",
       "      <td>0</td>\n",
       "      <td>0</td>\n",
       "      <td>0</td>\n",
       "      <td>0</td>\n",
       "      <td>0</td>\n",
       "      <td>0</td>\n",
       "      <td>1</td>\n",
       "      <td>0</td>\n",
       "      <td>0</td>\n",
       "      <td>1269</td>\n",
       "    </tr>\n",
       "  </tbody>\n",
       "</table>\n",
       "<p>3 rows × 36 columns</p>\n",
       "</div>"
      ],
      "text/plain": [
       "     anon_id anon_name  bio          city country  gender      hometown  \\\n",
       "580     1265      Erin  NaN  Philadelphia      us  female           NaN   \n",
       "581     1268      Anne  NaN  Philadelphia      us  female  Philadelphia   \n",
       "582     1269    Stacey  NaN  Philadelphia      us  female           NaN   \n",
       "\n",
       "                 joined    lat    lon    ...      206754182 215265722  \\\n",
       "580 2015-10-13 18:13:37  39.95 -75.16    ...              0         0   \n",
       "581 2015-10-18 15:29:42  39.96 -75.20    ...              0         0   \n",
       "582 2015-10-20 09:55:35  39.96 -75.20    ...              0         0   \n",
       "\n",
       "    219055217 219840555  220526799  221245827  225488147  89769502  98833672  \\\n",
       "580         0         0          0          0          1         0         0   \n",
       "581         0         0          0          0          1         0         0   \n",
       "582         0         0          0          0          1         0         0   \n",
       "\n",
       "     member_id  \n",
       "580       1265  \n",
       "581       1268  \n",
       "582       1269  \n",
       "\n",
       "[3 rows x 36 columns]"
      ]
     },
     "execution_count": 29,
     "metadata": {},
     "output_type": "execute_result"
    }
   ],
   "source": [
    "female_attendees = joined_with_rsvps_df[joined_with_rsvps_df['gender'].isin(['female', 'mostly_female'])]\n",
    "female_attendees.tail(3)"
   ]
  },
  {
   "cell_type": "markdown",
   "metadata": {},
   "source": [
    "Next we can use the ``sum`` method to count the number of male and femal attendees per event and create a ``Series`` for each."
   ]
  },
  {
   "cell_type": "code",
   "execution_count": 30,
   "metadata": {
    "collapsed": false
   },
   "outputs": [
    {
     "data": {
      "text/plain": [
       "102502622    30\n",
       "106043892    35\n",
       "107740582    33\n",
       "dtype: float64"
      ]
     },
     "execution_count": 30,
     "metadata": {},
     "output_type": "execute_result"
    }
   ],
   "source": [
    "event_ids = [\n",
    "    '102502622', '106043892', '107740582', '120425212', '133803672', '138415912', '144769822', '149515412',\n",
    "    '160323532', '168747852', '175993712', '182860422', '206754182', '215265722', '219055217', '219840555',\n",
    "    '220526799', '221245827', '225488147', '89769502', '98833672'\n",
    "]\n",
    "male_attendees[event_ids].sum().head(3)"
   ]
  },
  {
   "cell_type": "markdown",
   "metadata": {},
   "source": [
    "We can then recombine the male and female ``Series``' into a new ``DataFrame``."
   ]
  },
  {
   "cell_type": "code",
   "execution_count": 31,
   "metadata": {
    "collapsed": false
   },
   "outputs": [
    {
     "data": {
      "text/html": [
       "<div>\n",
       "<table border=\"1\" class=\"dataframe\">\n",
       "  <thead>\n",
       "    <tr style=\"text-align: right;\">\n",
       "      <th></th>\n",
       "      <th>female</th>\n",
       "      <th>male</th>\n",
       "    </tr>\n",
       "  </thead>\n",
       "  <tbody>\n",
       "    <tr>\n",
       "      <th>102502622</th>\n",
       "      <td>2</td>\n",
       "      <td>30</td>\n",
       "    </tr>\n",
       "    <tr>\n",
       "      <th>106043892</th>\n",
       "      <td>6</td>\n",
       "      <td>35</td>\n",
       "    </tr>\n",
       "    <tr>\n",
       "      <th>107740582</th>\n",
       "      <td>3</td>\n",
       "      <td>33</td>\n",
       "    </tr>\n",
       "  </tbody>\n",
       "</table>\n",
       "</div>"
      ],
      "text/plain": [
       "           female  male\n",
       "102502622       2    30\n",
       "106043892       6    35\n",
       "107740582       3    33"
      ]
     },
     "execution_count": 31,
     "metadata": {},
     "output_type": "execute_result"
    }
   ],
   "source": [
    "gender_attendance = pd.DataFrame({'male': male_attendees[event_ids].sum(), 'female': female_attendees[event_ids].sum()})\n",
    "gender_attendance.head(3)"
   ]
  },
  {
   "cell_type": "markdown",
   "metadata": {},
   "source": [
    "And then we can use ``merge`` again to combine this with our events ``DataFrame``."
   ]
  },
  {
   "cell_type": "code",
   "execution_count": 32,
   "metadata": {
    "collapsed": false
   },
   "outputs": [
    {
     "data": {
      "text/html": [
       "<div>\n",
       "<table border=\"1\" class=\"dataframe\">\n",
       "  <thead>\n",
       "    <tr style=\"text-align: right;\">\n",
       "      <th></th>\n",
       "      <th>created</th>\n",
       "      <th>name</th>\n",
       "      <th>rating</th>\n",
       "      <th>waitlist_count</th>\n",
       "      <th>yes_rsvp_count</th>\n",
       "      <th>id</th>\n",
       "      <th>total_RSVP_count</th>\n",
       "      <th>female</th>\n",
       "      <th>male</th>\n",
       "    </tr>\n",
       "    <tr>\n",
       "      <th>time</th>\n",
       "      <th></th>\n",
       "      <th></th>\n",
       "      <th></th>\n",
       "      <th></th>\n",
       "      <th></th>\n",
       "      <th></th>\n",
       "      <th></th>\n",
       "      <th></th>\n",
       "      <th></th>\n",
       "    </tr>\n",
       "  </thead>\n",
       "  <tbody>\n",
       "    <tr>\n",
       "      <th>2012-11-14 18:00:00</th>\n",
       "      <td>1351948193000</td>\n",
       "      <td>Meet and greet</td>\n",
       "      <td>{u'count': 3, u'average': 5}</td>\n",
       "      <td>0</td>\n",
       "      <td>17</td>\n",
       "      <td>89769502</td>\n",
       "      <td>17</td>\n",
       "      <td>1</td>\n",
       "      <td>8</td>\n",
       "    </tr>\n",
       "    <tr>\n",
       "      <th>2013-01-30 18:30:00</th>\n",
       "      <td>1357781071000</td>\n",
       "      <td>DataPhilly January 2013 Meetup - An Introducti...</td>\n",
       "      <td>{u'count': 6, u'average': 4.17000007629}</td>\n",
       "      <td>0</td>\n",
       "      <td>61</td>\n",
       "      <td>98833672</td>\n",
       "      <td>61</td>\n",
       "      <td>1</td>\n",
       "      <td>36</td>\n",
       "    </tr>\n",
       "    <tr>\n",
       "      <th>2013-02-19 18:30:00</th>\n",
       "      <td>1359732939000</td>\n",
       "      <td>DataPhilly February 2013 Meetup - Data Science...</td>\n",
       "      <td>{u'count': 5, u'average': 5}</td>\n",
       "      <td>0</td>\n",
       "      <td>47</td>\n",
       "      <td>102502622</td>\n",
       "      <td>47</td>\n",
       "      <td>2</td>\n",
       "      <td>30</td>\n",
       "    </tr>\n",
       "  </tbody>\n",
       "</table>\n",
       "</div>"
      ],
      "text/plain": [
       "                           created  \\\n",
       "time                                 \n",
       "2012-11-14 18:00:00  1351948193000   \n",
       "2013-01-30 18:30:00  1357781071000   \n",
       "2013-02-19 18:30:00  1359732939000   \n",
       "\n",
       "                                                                  name  \\\n",
       "time                                                                     \n",
       "2012-11-14 18:00:00                                     Meet and greet   \n",
       "2013-01-30 18:30:00  DataPhilly January 2013 Meetup - An Introducti...   \n",
       "2013-02-19 18:30:00  DataPhilly February 2013 Meetup - Data Science...   \n",
       "\n",
       "                                                       rating  waitlist_count  \\\n",
       "time                                                                            \n",
       "2012-11-14 18:00:00              {u'count': 3, u'average': 5}               0   \n",
       "2013-01-30 18:30:00  {u'count': 6, u'average': 4.17000007629}               0   \n",
       "2013-02-19 18:30:00              {u'count': 5, u'average': 5}               0   \n",
       "\n",
       "                     yes_rsvp_count         id  total_RSVP_count  female  male  \n",
       "time                                                                            \n",
       "2012-11-14 18:00:00              17   89769502                17       1     8  \n",
       "2013-01-30 18:30:00              61   98833672                61       1    36  \n",
       "2013-02-19 18:30:00              47  102502622                47       2    30  "
      ]
     },
     "execution_count": 32,
     "metadata": {},
     "output_type": "execute_result"
    }
   ],
   "source": [
    "events_with_gender_df = pd.merge(events_df, gender_attendance, left_on='id', right_index=True)\n",
    "events_with_gender_df.head(3)"
   ]
  },
  {
   "cell_type": "markdown",
   "metadata": {},
   "source": [
    "The we can ``plot`` the attendance by gender over time"
   ]
  },
  {
   "cell_type": "code",
   "execution_count": 33,
   "metadata": {
    "collapsed": false
   },
   "outputs": [
    {
     "data": {
      "text/plain": [
       "<matplotlib.axes._subplots.AxesSubplot at 0x10c2571d0>"
      ]
     },
     "execution_count": 33,
     "metadata": {},
     "output_type": "execute_result"
    },
    {
     "data": {
      "image/png": "[encoded data removed]",
      "text/plain": [
       "<matplotlib.figure.Figure at 0x10c218dd0>"
      ]
     },
     "metadata": {},
     "output_type": "display_data"
    }
   ],
   "source": [
    "gender_df = events_with_gender_df[['female', 'male']]\n",
    "gender_df.plot(title='Attendance by gender over time')"
   ]
  },
  {
   "cell_type": "markdown",
   "metadata": {},
   "source": [
    "This might be easier to interpret by looking at the percentage of females in attendance. We can use the ``div`` (divide) methode to calculate this."
   ]
  },
  {
   "cell_type": "code",
   "execution_count": 34,
   "metadata": {
    "collapsed": false
   },
   "outputs": [
    {
     "data": {
      "text/plain": [
       "<matplotlib.axes._subplots.AxesSubplot at 0x10c215c90>"
      ]
     },
     "execution_count": 34,
     "metadata": {},
     "output_type": "execute_result"
    },
    {
     "data": {
      "image/png": "[encoded data removed]",
      "text/plain": [
       "<matplotlib.figure.Figure at 0x10c1e2990>"
      ]
     },
     "metadata": {},
     "output_type": "display_data"
    }
   ],
   "source": [
    "female_ratio = gender_df['female'].div(gender_df['male'] + gender_df['female'])\n",
    "female_ratio.plot(title='Percentage female attendance over time', ylim=(0.0, 1.0))"
   ]
  },
  {
   "cell_type": "code",
   "execution_count": null,
   "metadata": {
    "collapsed": true
   },
   "outputs": [],
   "source": []
  }
 ],
 "metadata": {
  "kernelspec": {
   "display_name": "Python 2",
   "language": "python",
   "name": "python2"
  },
  "language_info": {
   "codemirror_mode": {
    "name": "ipython",
    "version": 2
   },
   "file_extension": ".py",
   "mimetype": "text/x-python",
   "name": "python",
   "nbconvert_exporter": "python",
   "pygments_lexer": "ipython2",
   "version": "2.7.10"
  }
 },
 "nbformat": 4,
 "nbformat_minor": 0
}
